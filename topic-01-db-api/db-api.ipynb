{
 "cells": [
  {
   "cell_type": "code",
   "execution_count": 2,
   "metadata": {},
   "outputs": [],
   "source": [
    "import sqlite3"
   ]
  },
  {
   "cell_type": "code",
   "execution_count": 3,
   "metadata": {},
   "outputs": [],
   "source": [
    "connection = sqlite3.connect(\"pets.db\")\n",
    "cursor = connection.cursor()"
   ]
  },
  {
   "cell_type": "code",
   "execution_count": 4,
   "metadata": {},
   "outputs": [],
   "source": [
    "cursor.execute(\"\"\"\n",
    "    create table if not exists pets (\n",
    "        id integer primary key autoincrement,\n",
    "        name text not null,\n",
    "        type text not null,\n",
    "        age integer,\n",
    "        owner text\n",
    "    )\n",
    "\"\"\")\n",
    "\n",
    "connection.commit()"
   ]
  },
  {
   "cell_type": "code",
   "execution_count": 5,
   "metadata": {},
   "outputs": [],
   "source": [
    "name = \"dorothy\"\n",
    "cursor.execute(\"\"\"\n",
    "    insert \n",
    "        into pets(name, type, age, owner) \n",
    "        values (?,?,?,?)\n",
    "    \"\"\",(name,\"dog\",9,\"greg\"))\n",
    "connection.commit()"
   ]
  },
  {
   "cell_type": "code",
   "execution_count": 6,
   "metadata": {},
   "outputs": [],
   "source": [
    "for name in [\"suzy\",\"casey\",\"heidi\"]:\n",
    "    cursor.execute(\"\"\"\n",
    "        insert \n",
    "            into pets(name, type, age, owner) \n",
    "            values (?,?,?,?)\n",
    "        \"\"\",(name,\"dog\",9,\"greg\"))\n",
    "    connection.commit()"
   ]
  },
  {
   "cell_type": "code",
   "execution_count": 7,
   "metadata": {},
   "outputs": [],
   "source": [
    "for name in [\"sandy\",\"muffin\",\"shadow\"]:\n",
    "    cursor.execute(\"\"\"\n",
    "        insert \n",
    "            into pets(name, type, age, owner) \n",
    "            values (?,?,?,?)\n",
    "        \"\"\",(name,\"cat\",9,\"greg\"))\n",
    "    connection.commit()"
   ]
  },
  {
   "cell_type": "code",
   "execution_count": 15,
   "metadata": {},
   "outputs": [
    {
     "name": "stdout",
     "output_type": "stream",
     "text": [
      "(1, 'dorothy', 'dog', 9, 'greg')\n",
      "(2, 'suzy', 'dog', 9, 'greg')\n",
      "(3, 'casey', 'dog', 9, 'greg')\n",
      "(4, 'heidi', 'dog', 9, 'greg')\n"
     ]
    }
   ],
   "source": [
    "cursor.execute(\"\"\"select * from pets where type=?\"\"\",(\"dog\",))\n",
    "rows = cursor.fetchall()\n",
    "for row in rows:\n",
    "    print(row)"
   ]
  },
  {
   "cell_type": "code",
   "execution_count": 11,
   "metadata": {},
   "outputs": [],
   "source": [
    "cursor.execute(\"\"\"\n",
    "    update pets\n",
    "    set age = ? \n",
    "    where name = ?\n",
    "    \"\"\", (11,\"sandy\"))\n",
    "connection.commit()"
   ]
  },
  {
   "cell_type": "code",
   "execution_count": 13,
   "metadata": {},
   "outputs": [],
   "source": [
    "cursor.execute(\"\"\"\n",
    "    delete from pets\n",
    "    where type = ?\n",
    "    \"\"\", (\"cat\",))\n",
    "connection.commit()"
   ]
  }
 ],
 "metadata": {
  "language_info": {
   "name": "python"
  }
 },
 "nbformat": 4,
 "nbformat_minor": 2
}
